{
 "cells": [
  {
   "cell_type": "code",
   "execution_count": 35,
   "metadata": {},
   "outputs": [
    {
     "name": "stdout",
     "output_type": "stream",
     "text": [
      "['R_0.png', 'R_1.png', 'R_2.png', 'R_3.png', 'R_4.png', 'R_5.png', 'R_6.png', 'R_7.png']\n",
      "C:\\Users\\VIPLAB\\Desktop\\Yan\\S02\\S02E01_BeforeClusteringAndSharpen\\R\\\\R_0.png>>>C:\\Users\\VIPLAB\\Desktop\\Yan\\S02\\S02E01_BeforeClusteringAndSharpen\\R\\\\R0.png\n",
      "C:\\Users\\VIPLAB\\Desktop\\Yan\\S02\\S02E01_BeforeClusteringAndSharpen\\R\\\\R_1.png>>>C:\\Users\\VIPLAB\\Desktop\\Yan\\S02\\S02E01_BeforeClusteringAndSharpen\\R\\\\R1.png\n",
      "C:\\Users\\VIPLAB\\Desktop\\Yan\\S02\\S02E01_BeforeClusteringAndSharpen\\R\\\\R_2.png>>>C:\\Users\\VIPLAB\\Desktop\\Yan\\S02\\S02E01_BeforeClusteringAndSharpen\\R\\\\R2.png\n",
      "C:\\Users\\VIPLAB\\Desktop\\Yan\\S02\\S02E01_BeforeClusteringAndSharpen\\R\\\\R_3.png>>>C:\\Users\\VIPLAB\\Desktop\\Yan\\S02\\S02E01_BeforeClusteringAndSharpen\\R\\\\R3.png\n",
      "C:\\Users\\VIPLAB\\Desktop\\Yan\\S02\\S02E01_BeforeClusteringAndSharpen\\R\\\\R_4.png>>>C:\\Users\\VIPLAB\\Desktop\\Yan\\S02\\S02E01_BeforeClusteringAndSharpen\\R\\\\R4.png\n",
      "C:\\Users\\VIPLAB\\Desktop\\Yan\\S02\\S02E01_BeforeClusteringAndSharpen\\R\\\\R_5.png>>>C:\\Users\\VIPLAB\\Desktop\\Yan\\S02\\S02E01_BeforeClusteringAndSharpen\\R\\\\R5.png\n",
      "C:\\Users\\VIPLAB\\Desktop\\Yan\\S02\\S02E01_BeforeClusteringAndSharpen\\R\\\\R_6.png>>>C:\\Users\\VIPLAB\\Desktop\\Yan\\S02\\S02E01_BeforeClusteringAndSharpen\\R\\\\R6.png\n",
      "C:\\Users\\VIPLAB\\Desktop\\Yan\\S02\\S02E01_BeforeClusteringAndSharpen\\R\\\\R_7.png>>>C:\\Users\\VIPLAB\\Desktop\\Yan\\S02\\S02E01_BeforeClusteringAndSharpen\\R\\\\R7.png\n"
     ]
    }
   ],
   "source": [
    "import os\n",
    "from PIL import Image, ImageFilter\n",
    "os.chdir(r\"C:\\Users\\VIPLAB\\Desktop\\Yan\\S02\\S02E01_BeforeClusteringAndSharpen\\R\")\n",
    "path = r\"C:\\Users\\VIPLAB\\Desktop\\Yan\\S02\\S02E01_BeforeClusteringAndSharpen\\R\\\\\"\n",
    "\n",
    "files=os.listdir(path)\n",
    "print(files)\n",
    "\n",
    "n=0\n",
    "for i in files:\n",
    "    oldname = path + files[n]\n",
    "    img = Image.open(oldname)\n",
    "    for i in range(10):\n",
    "        img = img.filter(ImageFilter.SHARPEN)\n",
    "    newname = path + 'R' +str(n) + '.png'\n",
    "    os.rename(oldname,newname)\n",
    "    print(oldname + '>>>'+ newname)\n",
    "    n=n+1         "
   ]
  },
  {
   "cell_type": "code",
   "execution_count": 37,
   "metadata": {},
   "outputs": [
    {
     "name": "stdout",
     "output_type": "stream",
     "text": [
      "['R_0.png', 'R_1.png', 'R_2.png', 'R_3.png', 'R_4.png', 'R_5.png', 'R_6.png', 'R_7.png']\n",
      "C:\\Users\\VIPLAB\\Desktop\\Yan\\S02\\S02E01_BeforeClusteringAndSharpen\\R\\\\R_0.png>>>C:\\Users\\VIPLAB\\Desktop\\Yan\\S02\\S02E01_BeforeClusteringAndSharpen\\R\\\\R_0.png\n",
      "C:\\Users\\VIPLAB\\Desktop\\Yan\\S02\\S02E01_BeforeClusteringAndSharpen\\R\\\\R_1.png>>>C:\\Users\\VIPLAB\\Desktop\\Yan\\S02\\S02E01_BeforeClusteringAndSharpen\\R\\\\R_1.png\n",
      "C:\\Users\\VIPLAB\\Desktop\\Yan\\S02\\S02E01_BeforeClusteringAndSharpen\\R\\\\R_2.png>>>C:\\Users\\VIPLAB\\Desktop\\Yan\\S02\\S02E01_BeforeClusteringAndSharpen\\R\\\\R_2.png\n",
      "C:\\Users\\VIPLAB\\Desktop\\Yan\\S02\\S02E01_BeforeClusteringAndSharpen\\R\\\\R_3.png>>>C:\\Users\\VIPLAB\\Desktop\\Yan\\S02\\S02E01_BeforeClusteringAndSharpen\\R\\\\R_3.png\n",
      "C:\\Users\\VIPLAB\\Desktop\\Yan\\S02\\S02E01_BeforeClusteringAndSharpen\\R\\\\R_4.png>>>C:\\Users\\VIPLAB\\Desktop\\Yan\\S02\\S02E01_BeforeClusteringAndSharpen\\R\\\\R_4.png\n",
      "C:\\Users\\VIPLAB\\Desktop\\Yan\\S02\\S02E01_BeforeClusteringAndSharpen\\R\\\\R_5.png>>>C:\\Users\\VIPLAB\\Desktop\\Yan\\S02\\S02E01_BeforeClusteringAndSharpen\\R\\\\R_5.png\n",
      "C:\\Users\\VIPLAB\\Desktop\\Yan\\S02\\S02E01_BeforeClusteringAndSharpen\\R\\\\R_6.png>>>C:\\Users\\VIPLAB\\Desktop\\Yan\\S02\\S02E01_BeforeClusteringAndSharpen\\R\\\\R_6.png\n",
      "C:\\Users\\VIPLAB\\Desktop\\Yan\\S02\\S02E01_BeforeClusteringAndSharpen\\R\\\\R_7.png>>>C:\\Users\\VIPLAB\\Desktop\\Yan\\S02\\S02E01_BeforeClusteringAndSharpen\\R\\\\R_7.png\n"
     ]
    }
   ],
   "source": [
    "import os\n",
    "path = r\"C:\\Users\\VIPLAB\\Desktop\\Yan\\S02\\S02E01_BeforeClusteringAndSharpen\\R\\\\\"\n",
    "files=os.listdir(path)\n",
    "print(files)\n",
    "\n",
    "n=0\n",
    "for i in files:\n",
    "    oldname = path + files[n]\n",
    "    newname = path + 'R_' +str(n) + '.png'\n",
    "    os.rename(oldname,newname)\n",
    "    print(oldname + '>>>'+ newname)\n",
    "    n=n+1"
   ]
  }
 ],
 "metadata": {
  "kernelspec": {
   "display_name": "Python 3",
   "language": "python",
   "name": "python3"
  },
  "language_info": {
   "codemirror_mode": {
    "name": "ipython",
    "version": 3
   },
   "file_extension": ".py",
   "mimetype": "text/x-python",
   "name": "python",
   "nbconvert_exporter": "python",
   "pygments_lexer": "ipython3",
   "version": "3.10.11"
  }
 },
 "nbformat": 4,
 "nbformat_minor": 2
}
